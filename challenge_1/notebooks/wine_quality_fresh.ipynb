{
 "cells": [
  {
   "cell_type": "markdown",
   "id": "7b3de5bb",
   "metadata": {},
   "source": [
    "# 🍷 Wine Quality Prediction Analysis\n",
    "\n",
    "## Comprehensive Machine Learning Analysis using Real Wine Data\n",
    "\n",
    "Welcome to the Wine Quality Prediction project! We'll analyze the **WineQT.csv** dataset to build machine learning models that predict wine quality based on chemical properties.\n",
    "\n",
    "## 🎯 Project Objectives\n",
    "- **Data Exploration**: Understand wine dataset structure and characteristics\n",
    "- **Feature Analysis**: Investigate how chemical properties relate to quality\n",
    "- **Machine Learning**: Build and compare multiple prediction models\n",
    "- **Insights**: Discover which factors most influence wine quality\n",
    "\n",
    "## 📊 Dataset Overview\n",
    "The WineQT dataset contains **1,143 real wine samples** with:\n",
    "- **11 chemical/physical features**: acidity, sugar, chlorides, sulfur dioxide, density, pH, sulphates, alcohol\n",
    "- **1 target variable**: quality score (rated 3-9)\n",
    "- **Real-world data**: Authentic measurements from wine testing\n",
    "\n",
    "---"
   ]
  },
  {
   "cell_type": "code",
   "execution_count": 1,
   "id": "21cbcc3e",
   "metadata": {},
   "outputs": [
    {
     "name": "stdout",
     "output_type": "stream",
     "text": [
      "📚 Libraries imported successfully!\n",
      "🍷 Ready to analyze wine quality data!\n"
     ]
    }
   ],
   "source": [
    "# Import Required Libraries\n",
    "import pandas as pd\n",
    "import numpy as np\n",
    "import matplotlib.pyplot as plt\n",
    "import seaborn as sns\n",
    "from sklearn.model_selection import train_test_split, cross_val_score\n",
    "from sklearn.ensemble import RandomForestRegressor, RandomForestClassifier\n",
    "from sklearn.linear_model import LinearRegression\n",
    "from sklearn.preprocessing import StandardScaler\n",
    "from sklearn.metrics import mean_squared_error, r2_score, accuracy_score, classification_report\n",
    "import warnings\n",
    "warnings.filterwarnings('ignore')\n",
    "\n",
    "# Set style for better plots\n",
    "plt.style.use('seaborn-v0_8')\n",
    "sns.set_palette(\"husl\")\n",
    "\n",
    "print(\"📚 Libraries imported successfully!\")\n",
    "print(\"🍷 Ready to analyze wine quality data!\")"
   ]
  },
  {
   "cell_type": "code",
   "execution_count": 2,
   "id": "05290df5",
   "metadata": {},
   "outputs": [
    {
     "name": "stdout",
     "output_type": "stream",
     "text": [
      "🍷 Loading WineQT dataset...\n",
      "📊 Dataset Overview:\n",
      "Total wine samples: 1143\n",
      "Number of features: 12\n",
      "Dataset shape: (1143, 13)\n",
      "\n",
      "📋 First 5 wine samples:\n",
      "   fixed acidity  volatile acidity  citric acid  residual sugar  chlorides  \\\n",
      "0            7.4              0.70         0.00             1.9      0.076   \n",
      "1            7.8              0.88         0.00             2.6      0.098   \n",
      "2            7.8              0.76         0.04             2.3      0.092   \n",
      "3           11.2              0.28         0.56             1.9      0.075   \n",
      "4            7.4              0.70         0.00             1.9      0.076   \n",
      "\n",
      "   free sulfur dioxide  total sulfur dioxide  density    pH  sulphates  \\\n",
      "0                 11.0                  34.0   0.9978  3.51       0.56   \n",
      "1                 25.0                  67.0   0.9968  3.20       0.68   \n",
      "2                 15.0                  54.0   0.9970  3.26       0.65   \n",
      "3                 17.0                  60.0   0.9980  3.16       0.58   \n",
      "4                 11.0                  34.0   0.9978  3.51       0.56   \n",
      "\n",
      "   alcohol  quality  Id  \n",
      "0      9.4        5   0  \n",
      "1      9.8        5   1  \n",
      "2      9.8        5   2  \n",
      "3      9.8        6   3  \n",
      "4      9.4        5   4  \n",
      "\n",
      "🏷️ Feature Names:\n",
      "['fixed acidity', 'volatile acidity', 'citric acid', 'residual sugar', 'chlorides', 'free sulfur dioxide', 'total sulfur dioxide', 'density', 'pH', 'sulphates', 'alcohol', 'quality', 'Id']\n",
      "\n",
      "🍷 Wine Quality Distribution:\n",
      "quality\n",
      "3      6\n",
      "4     33\n",
      "5    483\n",
      "6    462\n",
      "7    143\n",
      "8     16\n",
      "Name: count, dtype: int64\n",
      "\n",
      "📊 Quality Statistics:\n",
      "Quality range: 3-8\n",
      "Average quality: 5.66\n",
      "Most common quality: 5\n",
      "\n",
      "✅ Dataset loaded and explored successfully!\n"
     ]
    }
   ],
   "source": [
    "# Load and Explore the WineQT Dataset\n",
    "print(\"🍷 Loading WineQT dataset...\")\n",
    "\n",
    "# Load the real wine quality dataset\n",
    "wine_data = pd.read_csv('../data/WineQT.csv')\n",
    "\n",
    "print(f\"📊 Dataset Overview:\")\n",
    "print(f\"Total wine samples: {len(wine_data)}\")\n",
    "print(f\"Number of features: {len(wine_data.columns)-1}\")  # Exclude target\n",
    "print(f\"Dataset shape: {wine_data.shape}\")\n",
    "\n",
    "print(f\"\\n📋 First 5 wine samples:\")\n",
    "print(wine_data.head())\n",
    "\n",
    "print(f\"\\n🏷️ Feature Names:\")\n",
    "print(wine_data.columns.tolist())\n",
    "\n",
    "print(f\"\\n🍷 Wine Quality Distribution:\")\n",
    "print(wine_data['quality'].value_counts().sort_index())\n",
    "\n",
    "print(f\"\\n📊 Quality Statistics:\")\n",
    "print(f\"Quality range: {wine_data['quality'].min()}-{wine_data['quality'].max()}\")\n",
    "print(f\"Average quality: {wine_data['quality'].mean():.2f}\")\n",
    "print(f\"Most common quality: {wine_data['quality'].mode().iloc[0]}\")\n",
    "\n",
    "print(f\"\\n✅ Dataset loaded and explored successfully!\")"
   ]
  },
  {
   "cell_type": "code",
   "execution_count": 3,
   "id": "caa8c3e4",
   "metadata": {},
   "outputs": [
    {
     "data": {
      "image/png": "[encoded data removed]",
      "text/plain": [
       "<Figure size 1000x600 with 1 Axes>"
      ]
     },
     "metadata": {},
     "output_type": "display_data"
    },
    {
     "name": "stdout",
     "output_type": "stream",
     "text": [
      "📈 Statistical Summary:\n",
      "       fixed acidity  volatile acidity  citric acid  residual sugar  \\\n",
      "count    1143.000000       1143.000000  1143.000000     1143.000000   \n",
      "mean        8.311111          0.531339     0.268364        2.532152   \n",
      "std         1.747595          0.179633     0.196686        1.355917   \n",
      "min         4.600000          0.120000     0.000000        0.900000   \n",
      "25%         7.100000          0.392500     0.090000        1.900000   \n",
      "50%         7.900000          0.520000     0.250000        2.200000   \n",
      "75%         9.100000          0.640000     0.420000        2.600000   \n",
      "max        15.900000          1.580000     1.000000       15.500000   \n",
      "\n",
      "         chlorides  free sulfur dioxide  total sulfur dioxide      density  \\\n",
      "count  1143.000000          1143.000000           1143.000000  1143.000000   \n",
      "mean      0.086933            15.615486             45.914698     0.996730   \n",
      "std       0.047267            10.250486             32.782130     0.001925   \n",
      "min       0.012000             1.000000              6.000000     0.990070   \n",
      "25%       0.070000             7.000000             21.000000     0.995570   \n",
      "50%       0.079000            13.000000             37.000000     0.996680   \n",
      "75%       0.090000            21.000000             61.000000     0.997845   \n",
      "max       0.611000            68.000000            289.000000     1.003690   \n",
      "\n",
      "                pH    sulphates      alcohol      quality           Id  \n",
      "count  1143.000000  1143.000000  1143.000000  1143.000000  1143.000000  \n",
      "mean      3.311015     0.657708    10.442111     5.657043   804.969379  \n",
      "std       0.156664     0.170399     1.082196     0.805824   463.997116  \n",
      "min       2.740000     0.330000     8.400000     3.000000     0.000000  \n",
      "25%       3.205000     0.550000     9.500000     5.000000   411.000000  \n",
      "50%       3.310000     0.620000    10.200000     6.000000   794.000000  \n",
      "75%       3.400000     0.730000    11.100000     6.000000  1209.500000  \n",
      "max       4.010000     2.000000    14.900000     8.000000  1597.000000  \n"
     ]
    }
   ],
   "source": [
    "# Visualize Quality Distribution\n",
    "plt.figure(figsize=(10, 6))\n",
    "quality_counts = wine_data['quality'].value_counts().sort_index()\n",
    "bars = plt.bar(quality_counts.index, quality_counts.values, color='darkred', alpha=0.7)\n",
    "plt.title('Distribution of Wine Quality Scores', fontsize=16, fontweight='bold')\n",
    "plt.xlabel('Quality Score', fontsize=12)\n",
    "plt.ylabel('Number of Wines', fontsize=12)\n",
    "plt.xticks(quality_counts.index)\n",
    "plt.grid(axis='y', alpha=0.3)\n",
    "\n",
    "# Add value labels on bars\n",
    "for bar in bars:\n",
    "    height = bar.get_height()\n",
    "    plt.text(bar.get_x() + bar.get_width()/2., height + 10,\n",
    "             f'{int(height)}', ha='center', va='bottom', fontweight='bold')\n",
    "\n",
    "plt.tight_layout()\n",
    "plt.show()\n",
    "\n",
    "# Statistical summary\n",
    "print(\"📈 Statistical Summary:\")\n",
    "print(wine_data.describe())"
   ]
  }
 ],
 "metadata": {
  "kernelspec": {
   "display_name": ".venv",
   "language": "python",
   "name": "python3"
  },
  "language_info": {
   "codemirror_mode": {
    "name": "ipython",
    "version": 3
   },
   "file_extension": ".py",
   "mimetype": "text/x-python",
   "name": "python",
   "nbconvert_exporter": "python",
   "pygments_lexer": "ipython3",
   "version": "3.13.3"
  }
 },
 "nbformat": 4,
 "nbformat_minor": 5
}
